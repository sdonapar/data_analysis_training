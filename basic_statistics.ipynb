{
 "cells": [
  {
   "cell_type": "markdown",
   "metadata": {},
   "source": [
    "# Quick Introduction to Statistics"
   ]
  },
  {
   "cell_type": "markdown",
   "metadata": {},
   "source": [
    "## Types of Data"
   ]
  },
  {
   "cell_type": "markdown",
   "metadata": {},
   "source": [
    "### Continuous\n",
    "\n",
    "* Data that can take on any value in an interval.\n",
    "\n",
    "### Discrete\n",
    "\n",
    "* Data that can take on only integer values, such as counts.\n",
    "\n",
    "### Categorical\n",
    "\n",
    "* Data that can take on only a specific set of values representing a set of possible categories.\n",
    "\n",
    "### Binary\n",
    "\n",
    "* A special case of categorical data with just two categories of values (0/1, true/false).\n",
    "\n",
    "### Ordinal\n",
    "\n",
    "* Categorical data that has an explicit ordering.\n"
   ]
  },
  {
   "cell_type": "markdown",
   "metadata": {},
   "source": [
    "## Rectangular Data"
   ]
  },
  {
   "cell_type": "markdown",
   "metadata": {},
   "source": [
    "### Data frame\n",
    "\n",
    "\n",
    "* Rectangular data (like a spreadsheet) is the basic data structure for statistical and machine learning models.\n",
    "\n",
    "### Feature\n",
    "\n",
    "* A column in the table is commonly referred to as a feature. (attribute, input, predictor, variable)\n",
    "\n",
    "### Outcome\n",
    "\n",
    "* Many data science projects involve predicting an outcome—often a yes/no outcome.\n",
    "  </br>\n",
    "  The features are sometimes used to predict the outcome in an experiment or study. (dependent variable, response, target, output)\n",
    "\n",
    "### Records\n",
    "\n",
    "* A row in the table is commonly referred to as a record. (case, example, instance, observation, pattern, sample)\n"
   ]
  },
  {
   "cell_type": "markdown",
   "metadata": {},
   "source": [
    "## Nonrectangular Data Structures"
   ]
  },
  {
   "cell_type": "markdown",
   "metadata": {},
   "source": [
    "#### There are other data structures besides rectangular data.\n",
    "\n",
    "* **Time series data** records successive measurements of the same variable.\n",
    "\n",
    "* **Spatial data structures**, which are used in mapping and location analytics, are more complex and varied than rectangular data structures.\n",
    "\n",
    "* **Graph (or network) data structures** are used to represent physical, social, and abstract relationships.\n"
   ]
  },
  {
   "cell_type": "markdown",
   "metadata": {},
   "source": [
    "## Estimates of Location\n",
    "\n",
    "* Variables with measured or count data might have thousands of distinct values.\n",
    "* A basic step in exploring data is getting a “typical value” for each feature (variable): an estimate of where most of the data is located (i.e., its **central tendency**)."
   ]
  },
  {
   "cell_type": "markdown",
   "metadata": {},
   "source": [
    "### Mean\n",
    "\n",
    "* The sum of all values divided by the number of values. (average) \n",
    "* $\\bar{x}$ to represent a mean of sample from population \n",
    "\n",
    "![](image/mean.png)\n",
    "\n",
    "\n",
    "\n",
    "### Weighted mean\n",
    "\n",
    "* The sum of all values times a weight divided by the sum of the weights.(weighted average)\n",
    "\n",
    "![](image/weighted_mean.png)\n",
    "\n",
    "### Trimmed mean\n",
    "\n",
    "* The average of all values after dropping a fixed number of extreme values. (truncated mean)\n",
    "\n",
    "![](image/trimmed_mean.png)\n",
    "\n",
    "### Median\n",
    "\n",
    "* The value such that one-half of the data lies above and below.\n",
    "\n",
    "\n",
    "### Weighted median\n",
    "\n",
    "* The value such that one-half of the sum of the weights lies above and below the sorted data.\n",
    " \n",
    "### Robust\n",
    "\n",
    "* Not sensitive to extreme values.\n",
    "* The median is referred to as a robust estimate of location since it is not influenced by outliers (extreme cases)\n",
    "\n",
    "### Outlier\n",
    "\n",
    "* A data value that is very different from most of the data.\n"
   ]
  },
  {
   "cell_type": "markdown",
   "metadata": {},
   "source": [
    "## Estimates of Variability\n",
    "\n",
    "* Location is just one dimension in summarizing a feature.\n",
    "\n",
    "* A second dimension, variability, also referred to as dispersion, measures whether the data values are tightly clustered or spread out."
   ]
  },
  {
   "cell_type": "markdown",
   "metadata": {},
   "source": [
    "### Deviations\n",
    "\n",
    "* The difference between the observed values and the estimate of location. (errors, residuals)\n",
    "\n",
    "### <span style=\"color:blue\">Variance</span>\n",
    "\n",
    "* The sum of squared deviations from the mean divided by n – 1 where n is the number of data values. (mean-squared-error)\n",
    "\n",
    "### <span style=\"color:blue\">Standard deviation</span>\n",
    "\n",
    "* The square root of the variance.\n",
    "\n",
    "![](image/standard_deviation.png)\n",
    "\n",
    "### Mean absolute deviation\n",
    "\n",
    "* The mean of the absolute value of the deviations from the mean.\n",
    "\n",
    "![](image/mean_abs_deviation.png)\n",
    "\n",
    "\n",
    "### Median absolute deviation from the median\n",
    "\n",
    "* The median of the absolute value of the deviations from the median.\n",
    "\n",
    "![](image/median_abs_deviation.png)\n",
    "\n",
    "### <span style=\"color:blue\">Range</span>\n",
    "\n",
    "* The difference between the largest and the smallest value in a data set.\n",
    "\n",
    "### Order statistics\n",
    "\n",
    "* Metrics based on the data values sorted from smallest to biggest. (rank)\n",
    "\n",
    "### <span style=\"color:blue\">Percentile</span>\n",
    "\n",
    "* The value such that P percent of the values take on this value or less and (100–P) percent take on this value or more.\n",
    "\n",
    "### <span style=\"color:blue\">Interquartile range</span>\n",
    "\n",
    "* The difference between the 75th percentile and the 25th percentile. (IQR)\n"
   ]
  },
  {
   "cell_type": "markdown",
   "metadata": {},
   "source": [
    "## Exploring the Distribution"
   ]
  },
  {
   "cell_type": "markdown",
   "metadata": {},
   "source": [
    "### Boxplot\n",
    "\n",
    "\n",
    "* A plot introduced by Tukey as a quick way to visualize the distribution of data.\n",
    "\n",
    "<img src=\"image/boxplot.gif\" alt=\"BoxPlot-Image\" style=\"width:250px;height:400px;\">\n",
    "\n",
    "### Frequency table\n",
    "\n",
    "* A tally of the count of numeric data values that fall into a set of intervals (bins).\n",
    "\n",
    "\n",
    "### Histogram\n",
    "\n",
    "* A plot of the frequency table with the bins on the x-axis and the count (or proportion) on the y-axis.\n",
    "\n",
    "<img src=\"image/histogram.png\" alt=\"Histogram-Image\" style=\"width:300px;height:350px;\">\n",
    "\n",
    "### Density plot\n",
    "\n",
    "* A smoothed version of the histogram, often based on a kernal density estimate.\n",
    "\n",
    "<img src=\"image/density_plot.gif\" alt=\"DensityPlot-Image\" style=\"width:450px;height:350px;\">\n"
   ]
  },
  {
   "cell_type": "markdown",
   "metadata": {},
   "source": [
    "## Exploring Categorical Data"
   ]
  },
  {
   "cell_type": "markdown",
   "metadata": {},
   "source": [
    "### Mode\n",
    "\n",
    "* The most commonly occurring category or value in a data set.\n",
    "\n",
    "### Expected value\n",
    "\n",
    "* When the categories can be associated with a numeric value, this gives an average value based on a category’s probability of occurrence.\n",
    "\n",
    "* A marketer for a new cloud technology, for example, offers two levels of service, one priced at \\\\$300 per month and another at \\\\$50 permonth. The marketer offers free webinars to generate leads, and the firm figures that 5% of the attendees will sign up for the \\\\$300 service, 15% for the \\\\$50 service, and 80% will not sign up for anything.\n",
    "\n",
    "<img src=\"./image/ev.png\" alt=\"Expected Value-Image\" style=\"width:650px;height:30px;\">\n",
    "\n",
    "### Bar charts\n",
    "\n",
    "* The frequency or proportion for each category plotted as bars.\n",
    "\n",
    "<img src=\"./image/barplot.png\" alt=\"BarPlot-Image\" style=\"width:350px;height:350px;\">"
   ]
  },
  {
   "cell_type": "markdown",
   "metadata": {},
   "source": [
    "## Correlation"
   ]
  },
  {
   "cell_type": "markdown",
   "metadata": {},
   "source": [
    "### Correlation coefficient\n",
    "\n",
    "* A metric that measures the extent to which numeric variables are associated with one another (ranges from –1 to +1).\n",
    "\n",
    "<img src=\"./image/cor_coeff.png\" alt=\"BarPlot-Image\" style=\"width:350px;height:90px;\">\n",
    "\n",
    "### Correlation matrix\n",
    "\n",
    "* A table where the variables are shown on both rows and columns, and the cell values are the correlations between the variables.\n",
    "\n",
    "<img src=\"./image/cor_matrix.png\" alt=\"CorrelationMatrix-Image\" style=\"width:450px;height:450px;\">\n",
    "\n",
    "### Scatterplot\n",
    "\n",
    "* A plot in which the x-axis is the value of one variable, and the y-axis the value of another.\n",
    "\n",
    "<img src=\"./image/scatterplot.png\" alt=\"BarPlot-Image\" style=\"width:350px;height:350px;\">\n"
   ]
  },
  {
   "cell_type": "markdown",
   "metadata": {},
   "source": [
    "## Normal Distribution\n",
    "\n",
    "* The bell-shaped normal distribution is iconic in traditional statistics.\n",
    "\n",
    "* The fact that distributions of sample statistics are often normally shaped has made it a powerful tool in the development of mathematical formulas that approximate those distributions.\n"
   ]
  },
  {
   "cell_type": "markdown",
   "metadata": {},
   "source": [
    "### Error\n",
    "\n",
    "* The difference between a data point and a predicted or average value.\n",
    "\n",
    "### Standardize\n",
    "\n",
    "* Subtract the mean and divide by the standard deviation.\n",
    "### z-score\n",
    "\n",
    "* The result of standardizing an individual data point.\n",
    "\n",
    "### Standard normal\n",
    "\n",
    "A normal distribution with mean = 0 and standard deviation = 1.\n",
    "\n",
    "### QQ-Plot\n",
    "\n",
    "* A plot to visualize how close a sample distribution is to a normal distribution.\n",
    "\n",
    "<img src=\"./image/qqplot.png\" alt=\"BarPlot-Image\" style=\"width:450px;height:400px;\">"
   ]
  },
  {
   "cell_type": "markdown",
   "metadata": {},
   "source": [
    "### In a normal distribution\n",
    "* 68% of the data lies within one standard deviation of the mean.\n",
    "* 95% lies within two standard deviations.\n",
    "* 99.7% data with in three standard deviations.\n",
    "\n",
    "<img src=\"./image/normal_distribution.png\" alt=\"BarPlot-Image\" style=\"width:650px;height:400px;\">"
   ]
  },
  {
   "cell_type": "markdown",
   "metadata": {},
   "source": [
    "## Basic Probability"
   ]
  },
  {
   "cell_type": "markdown",
   "metadata": {},
   "source": [
    "* Probability is concerned with the outcome of trials.\n",
    "* Trials are also called experiments or observations (multiple trials).\n",
    "* Trials refers to an event whose outcome is unknown."
   ]
  },
  {
   "cell_type": "markdown",
   "metadata": {},
   "source": [
    "### Sample Space (S) - Set of all possible elementary outcomes of a trial"
   ]
  },
  {
   "cell_type": "markdown",
   "metadata": {},
   "source": [
    "### Events (E) - An event is the specification of the outcome of a trial."
   ]
  },
  {
   "cell_type": "markdown",
   "metadata": {},
   "source": [
    "* The probability of an event is always between 0 and 1.\n",
    "* The probability of an event and its complement is always 1."
   ]
  },
  {
   "cell_type": "code",
   "execution_count": null,
   "metadata": {},
   "outputs": [],
   "source": []
  }
 ],
 "metadata": {
  "kernelspec": {
   "display_name": "Python 3 (ipykernel)",
   "language": "python",
   "name": "python3"
  },
  "language_info": {
   "codemirror_mode": {
    "name": "ipython",
    "version": 3
   },
   "file_extension": ".py",
   "mimetype": "text/x-python",
   "name": "python",
   "nbconvert_exporter": "python",
   "pygments_lexer": "ipython3",
   "version": "3.9.12"
  }
 },
 "nbformat": 4,
 "nbformat_minor": 4
}
