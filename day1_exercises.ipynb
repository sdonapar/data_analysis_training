{
 "cells": [
  {
   "cell_type": "markdown",
   "metadata": {},
   "source": [
    "# Data Analysis Using [Python](https://www.python.org) - Day1 Exercises"
   ]
  },
  {
   "cell_type": "markdown",
   "metadata": {},
   "source": [
    "# Exercise 1\n",
    "* ## Generate a list of packages installed in your miniconda3 distribution\n",
    "* ## Source-1\n",
    "* ## 'pip freeze' command list all of the packages installed, redirect the output to a file\n",
    "* ## Source-2\n",
    "* ## After activating the virtual env, change directory to $CONDA_PREFIX\n",
    "* ## Miniconda insallation has a directory #CONDA_PEEFIX/lib/python3.7/site-packages\n",
    "* ## The above directory contains a directory for each package, generate a package list using directory names\n",
    "* ## Compare both the packages and their versions and find the differences between Source-1 and Source-2"
   ]
  },
  {
   "cell_type": "markdown",
   "metadata": {},
   "source": [
    "# Exercise 2\n",
    "* ## Write a function that returs a boolean if a given number is happy number\n",
    "* ## Here is more information on what is a happy number\n",
    "\n",
    "## A **happy number** is a number defined by the following process: Starting with any **positive integer**, replace the number by the **sum of the squares of its digits**, and repeat the process until the number either equals 1 (where it will stay), or it loops endlessly in a cycle which does not include 1. Those numbers for which this process ends in 1 are happy numbers, while those that do not end in 1 are unhappy numbers"
   ]
  }
 ],
 "metadata": {
  "anaconda-cloud": {},
  "kernelspec": {
   "display_name": "Python 3 (ipykernel)",
   "language": "python",
   "name": "python3"
  },
  "language_info": {
   "codemirror_mode": {
    "name": "ipython",
    "version": 3
   },
   "file_extension": ".py",
   "mimetype": "text/x-python",
   "name": "python",
   "nbconvert_exporter": "python",
   "pygments_lexer": "ipython3",
   "version": "3.9.12"
  }
 },
 "nbformat": 4,
 "nbformat_minor": 4
}
