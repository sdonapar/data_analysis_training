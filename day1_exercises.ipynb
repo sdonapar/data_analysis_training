{
 "cells": [
  {
   "cell_type": "markdown",
   "metadata": {},
   "source": [
    "# Data Analysis Using [Python](https://www.python.org) - Day1 Exercises"
   ]
  },
  {
   "cell_type": "markdown",
   "metadata": {},
   "source": [
    "# Exercise 1\n",
    "* ## There is a zip data file in data/job_postings\n",
    "* ## Read this file into Python data structure without unzipping the file ( Hint use zipfile package in python)\n",
    "* ## there is a column \"Description\" in the file and task is to find those relevant records based on technical key words like \"Python\", \"SQL\", \"Java\", etc.,"
   ]
  },
  {
   "cell_type": "markdown",
   "metadata": {},
   "source": [
    "# Exercise 2\n",
    "* ## Write a function that returs a boolean if a given number is happy number\n",
    "* ## Here is more information on what is a happy number\n",
    "\n",
    "## A **happy number** is a number defined by the following process: Starting with any **positive integer**, replace the number by the **sum of the squares of its digits**, and repeat the process until the number either equals 1 (where it will stay), or it loops endlessly in a cycle which does not include 1. Those numbers for which this process ends in 1 are happy numbers, while those that do not end in 1 are unhappy numbers"
   ]
  }
 ],
 "metadata": {
  "anaconda-cloud": {},
  "kernelspec": {
   "display_name": "Python 3 (ipykernel)",
   "language": "python",
   "name": "python3"
  },
  "language_info": {
   "codemirror_mode": {
    "name": "ipython",
    "version": 3
   },
   "file_extension": ".py",
   "mimetype": "text/x-python",
   "name": "python",
   "nbconvert_exporter": "python",
   "pygments_lexer": "ipython3",
   "version": "3.9.12"
  }
 },
 "nbformat": 4,
 "nbformat_minor": 4
}
