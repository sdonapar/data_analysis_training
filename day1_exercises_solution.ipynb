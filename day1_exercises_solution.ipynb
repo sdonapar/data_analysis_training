{
 "cells": [
  {
   "cell_type": "code",
   "execution_count": null,
   "metadata": {},
   "outputs": [],
   "source": []
  },
  {
   "cell_type": "code",
   "execution_count": 1,
   "metadata": {},
   "outputs": [],
   "source": [
    "import os\n",
    "from pathlib import Path"
   ]
  },
  {
   "cell_type": "markdown",
   "metadata": {},
   "source": [
    "# Exercise1 - Solution"
   ]
  },
  {
   "cell_type": "markdown",
   "metadata": {},
   "source": [
    "## Source1 - Pip Packages"
   ]
  },
  {
   "cell_type": "code",
   "execution_count": 1,
   "metadata": {},
   "outputs": [],
   "source": [
    "import zipfile"
   ]
  },
  {
   "cell_type": "code",
   "execution_count": 11,
   "metadata": {},
   "outputs": [
    {
     "name": "stdout",
     "output_type": "stream",
     "text": [
      "[<ZipInfo filename='job_description.csv' compress_type=deflate file_size=1268798 compress_size=309865>]\n"
     ]
    }
   ],
   "source": [
    "with zipfile.ZipFile(\"./data/job_postings/job_description.csv.zip\") as inp:\n",
    "    print(inp.filelist)"
   ]
  },
  {
   "cell_type": "code",
   "execution_count": 27,
   "metadata": {},
   "outputs": [],
   "source": [
    "!pip freeze > source1_pkg.txt"
   ]
  },
  {
   "cell_type": "code",
   "execution_count": 28,
   "metadata": {},
   "outputs": [],
   "source": [
    "source1_pkgs = []\n",
    "with open(\"source1_pkg.txt\") as inp:\n",
    "    for line in inp:\n",
    "        line = line.strip(\"\\n\")\n",
    "        #print(line)\n",
    "        pkg_name, pkg_version = line.split(\"==\")\n",
    "        source1_pkgs.append((pkg_name,pkg_version))"
   ]
  },
  {
   "cell_type": "code",
   "execution_count": 29,
   "metadata": {},
   "outputs": [
    {
     "data": {
      "text/plain": [
       "66"
      ]
     },
     "execution_count": 29,
     "metadata": {},
     "output_type": "execute_result"
    }
   ],
   "source": [
    "len(source1_pkgs)"
   ]
  },
  {
   "cell_type": "code",
   "execution_count": null,
   "metadata": {},
   "outputs": [],
   "source": [
    "source1_pkgs[0:5]"
   ]
  },
  {
   "cell_type": "markdown",
   "metadata": {},
   "source": [
    "## Source2 - Miniconda Packages"
   ]
  },
  {
   "cell_type": "code",
   "execution_count": null,
   "metadata": {},
   "outputs": [],
   "source": [
    "conda_prefix = os.environ['CONDA_PREFIX']\n",
    "conda_prefix"
   ]
  },
  {
   "cell_type": "code",
   "execution_count": null,
   "metadata": {},
   "outputs": [],
   "source": []
  },
  {
   "cell_type": "code",
   "execution_count": null,
   "metadata": {},
   "outputs": [],
   "source": [
    "source2_pkgs = []\n",
    "for file in Path(f\"{conda_prefix}/lib/site-packages\").glob(\"*dist-info\"):\n",
    "    if file.is_dir():\n",
    "        pkg_name, pkg_version = file.name.replace(\".dist-info\",\"\").split(\"-\")\n",
    "        #print(pkg_name, pkg_version)\n",
    "        source2_pkgs.append((pkg_name,pkg_version))"
   ]
  },
  {
   "cell_type": "code",
   "execution_count": null,
   "metadata": {},
   "outputs": [],
   "source": [
    "len(source2_pkgs)"
   ]
  },
  {
   "cell_type": "code",
   "execution_count": null,
   "metadata": {},
   "outputs": [],
   "source": [
    "set1 = set(dict(source1_pkgs).keys())\n",
    "set2 = set(dict(source2_pkgs).keys())\n",
    "combined_pkgs  = [ (key, dict(source1_pkgs)[key], dict(source2_pkgs)[key]) for key in set1.intersection(set2)]\n",
    "set1_only_pkgs = [ (key, dict(source1_pkgs)[key], None) for key in set1-set2]\n",
    "set2_only_pkgs = [ (key, None, dict(source2_pkgs)[key]) for key in set2-set1]"
   ]
  },
  {
   "cell_type": "code",
   "execution_count": null,
   "metadata": {},
   "outputs": [],
   "source": [
    "set2_only_pkgs"
   ]
  },
  {
   "cell_type": "code",
   "execution_count": null,
   "metadata": {},
   "outputs": [],
   "source": [
    "set1_only_pkgs"
   ]
  },
  {
   "cell_type": "code",
   "execution_count": null,
   "metadata": {},
   "outputs": [],
   "source": [
    "combined_pkgs"
   ]
  },
  {
   "cell_type": "code",
   "execution_count": null,
   "metadata": {},
   "outputs": [],
   "source": [
    "set1.intersection(set2)"
   ]
  },
  {
   "cell_type": "markdown",
   "metadata": {},
   "source": [
    "# Exercise2 - Solution"
   ]
  },
  {
   "cell_type": "markdown",
   "metadata": {},
   "source": [
    "## A happy number is a number defined by the following process: Starting with any positive integer, replace the number by the sum of the squares of its digits, and repeat the process until the number either equals 1 (where it will stay), or it loops endlessly in a cycle which does not include 1. Those numbers for which this process ends in 1 are happy numbers, while those that do not end in 1 are unhappy numbers"
   ]
  },
  {
   "cell_type": "code",
   "execution_count": null,
   "metadata": {},
   "outputs": [],
   "source": [
    "def is_happy_number(any_positive_integer:int)->bool:\n",
    "    \"\"\"\n",
    "    This function takes any positive integer as input and returns a True if the number is a happy number\n",
    "    A happy number is a number defined by the following process: \n",
    "      Starting with any positive integer, replace the number by the sum of the squares of its digits, \n",
    "      and repeat the process until the number either equals 1 (where it will stay), \n",
    "      or it loops endlessly in a cycle which does not include 1. \n",
    "      Those numbers for which this process ends in 1 are happy numbers, \n",
    "      while those that do not end in 1 are unhappy numbers\n",
    "      \n",
    "      is_happy_number(any_positive_number) -> Boolean\n",
    "    \"\"\"\n",
    "    number = any_positive_integer\n",
    "    no_of_iterations = 0\n",
    "    while True:\n",
    "        number = _sum_of_square_of_digits(number)\n",
    "        no_of_iterations += 1\n",
    "        print(number,no_of_iterations)\n",
    "        if number == 1:\n",
    "            print(no_of_iterations)\n",
    "            return True\n",
    "        elif number in [0,2,3,4,5,6,7,8,9]:\n",
    "            print(no_of_iterations)\n",
    "            return False\n",
    "        "
   ]
  },
  {
   "cell_type": "code",
   "execution_count": null,
   "metadata": {},
   "outputs": [],
   "source": [
    "def _sum_of_square_of_digits(any_positive_integer:int)->int:\n",
    "    \"\"\"\n",
    "    This function retunrs sum of the squares of digits of any positive number\n",
    "    \n",
    "    _sum_of_squares_of_digits(any_positive_integer) -> int\n",
    "    \n",
    "    \"\"\"\n",
    "    square_of_digits = [ int(digit)**2 for digit in str(any_positive_integer)]\n",
    "    return sum(square_of_digits)\n",
    "    "
   ]
  },
  {
   "cell_type": "code",
   "execution_count": null,
   "metadata": {},
   "outputs": [],
   "source": [
    "_sum_of_square_of_digits(4)"
   ]
  },
  {
   "cell_type": "code",
   "execution_count": null,
   "metadata": {},
   "outputs": [],
   "source": [
    "is_happy_number(13)"
   ]
  },
  {
   "cell_type": "code",
   "execution_count": null,
   "metadata": {},
   "outputs": [],
   "source": []
  },
  {
   "cell_type": "code",
   "execution_count": null,
   "metadata": {},
   "outputs": [],
   "source": [
    "exi"
   ]
  }
 ],
 "metadata": {
  "kernelspec": {
   "display_name": "Python 3 (ipykernel)",
   "language": "python",
   "name": "python3"
  },
  "language_info": {
   "codemirror_mode": {
    "name": "ipython",
    "version": 3
   },
   "file_extension": ".py",
   "mimetype": "text/x-python",
   "name": "python",
   "nbconvert_exporter": "python",
   "pygments_lexer": "ipython3",
   "version": "3.9.12"
  }
 },
 "nbformat": 4,
 "nbformat_minor": 4
}
